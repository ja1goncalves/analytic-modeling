{
 "cells": [
  {
   "cell_type": "markdown",
   "metadata": {},
   "source": [
    "# Importando bibliotecas"
   ]
  },
  {
   "cell_type": "code",
   "execution_count": 1,
   "metadata": {
    "pycharm": {
     "name": "#%%\n"
    }
   },
   "outputs": [],
   "source": [
    "import numpy as np\n",
    "import pandas as pd\n",
    "from datetime import datetime as dt\n",
    "import statsmodels.api as sm\n",
    "from statsmodels.tsa.statespace.sarimax import SARIMAX\n",
    "from math import sqrt\n",
    "from sklearn.metrics import mean_squared_error, mean_absolute_error, mean_absolute_percentage_error\n",
    "from arch.unitroot import PhillipsPerron as pp\n",
    "from tqdm import tqdm_notebook\n",
    "import matplotlib.pyplot as plt\n",
    "import seaborn as sns\n",
    "from scipy import stats\n",
    "import warnings\n",
    "warnings.simplefilter('ignore')\n",
    "%matplotlib inline\n",
    "sns.set_style(\"whitegrid\")\n",
    "plt.rc('xtick', labelsize=15)\n",
    "plt.rc('ytick', labelsize=15)"
   ]
  },
  {
   "cell_type": "markdown",
   "metadata": {},
   "source": [
    "# 1. Importando base de dados formatada"
   ]
  },
  {
   "cell_type": "markdown",
   "metadata": {
    "pycharm": {
     "name": "#%% md\n"
    }
   },
   "source": [
    "## 1.1 Tratando os dados internos"
   ]
  },
  {
   "cell_type": "code",
   "execution_count": 2,
   "metadata": {},
   "outputs": [
    {
     "data": {
      "text/html": [
       "<div>\n",
       "<style scoped>\n",
       "    .dataframe tbody tr th:only-of-type {\n",
       "        vertical-align: middle;\n",
       "    }\n",
       "\n",
       "    .dataframe tbody tr th {\n",
       "        vertical-align: top;\n",
       "    }\n",
       "\n",
       "    .dataframe thead th {\n",
       "        text-align: right;\n",
       "    }\n",
       "</style>\n",
       "<table border=\"1\" class=\"dataframe\">\n",
       "  <thead>\n",
       "    <tr style=\"text-align: right;\">\n",
       "      <th></th>\n",
       "      <th>value</th>\n",
       "      <th>date</th>\n",
       "    </tr>\n",
       "    <tr>\n",
       "      <th>index</th>\n",
       "      <th></th>\n",
       "      <th></th>\n",
       "    </tr>\n",
       "  </thead>\n",
       "  <tbody>\n",
       "    <tr>\n",
       "      <th>1973-01-01</th>\n",
       "      <td>337.0</td>\n",
       "      <td>1973-01-01</td>\n",
       "    </tr>\n",
       "    <tr>\n",
       "      <th>1973-01-02</th>\n",
       "      <td>361.0</td>\n",
       "      <td>1973-01-02</td>\n",
       "    </tr>\n",
       "    <tr>\n",
       "      <th>1973-01-03</th>\n",
       "      <td>476.0</td>\n",
       "      <td>1973-01-03</td>\n",
       "    </tr>\n",
       "    <tr>\n",
       "      <th>1973-01-04</th>\n",
       "      <td>765.0</td>\n",
       "      <td>1973-01-04</td>\n",
       "    </tr>\n",
       "    <tr>\n",
       "      <th>1973-01-05</th>\n",
       "      <td>999.0</td>\n",
       "      <td>1973-01-05</td>\n",
       "    </tr>\n",
       "    <tr>\n",
       "      <th>...</th>\n",
       "      <td>...</td>\n",
       "      <td>...</td>\n",
       "    </tr>\n",
       "    <tr>\n",
       "      <th>2019-12-17</th>\n",
       "      <td>281.0</td>\n",
       "      <td>2019-12-17</td>\n",
       "    </tr>\n",
       "    <tr>\n",
       "      <th>2019-12-18</th>\n",
       "      <td>299.0</td>\n",
       "      <td>2019-12-18</td>\n",
       "    </tr>\n",
       "    <tr>\n",
       "      <th>2019-12-19</th>\n",
       "      <td>312.0</td>\n",
       "      <td>2019-12-19</td>\n",
       "    </tr>\n",
       "    <tr>\n",
       "      <th>2019-12-20</th>\n",
       "      <td>311.0</td>\n",
       "      <td>2019-12-20</td>\n",
       "    </tr>\n",
       "    <tr>\n",
       "      <th>2019-12-21</th>\n",
       "      <td>295.0</td>\n",
       "      <td>2019-12-21</td>\n",
       "    </tr>\n",
       "  </tbody>\n",
       "</table>\n",
       "<p>17156 rows × 2 columns</p>\n",
       "</div>"
      ],
      "text/plain": [
       "            value       date\n",
       "index                       \n",
       "1973-01-01  337.0 1973-01-01\n",
       "1973-01-02  361.0 1973-01-02\n",
       "1973-01-03  476.0 1973-01-03\n",
       "1973-01-04  765.0 1973-01-04\n",
       "1973-01-05  999.0 1973-01-05\n",
       "...           ...        ...\n",
       "2019-12-17  281.0 2019-12-17\n",
       "2019-12-18  299.0 2019-12-18\n",
       "2019-12-19  312.0 2019-12-19\n",
       "2019-12-20  311.0 2019-12-20\n",
       "2019-12-21  295.0 2019-12-21\n",
       "\n",
       "[17156 rows x 2 columns]"
      ]
     },
     "execution_count": 2,
     "metadata": {},
     "output_type": "execute_result"
    }
   ],
   "source": [
    "dt_parse = lambda dates: dt.strptime(dates, '%Y-%m-%d')\n",
    "\n",
    "train_data  = pd.read_csv('data/transformed/DADO_TREINO_UBE_48_12_univariate.csv',\n",
    "                   header=0, names=['index','value', 'date'], parse_dates=True, index_col='index', date_parser=dt_parse)\n",
    "test_data = pd.read_csv('data/transformed/DADO_TESTE_UBE_48_12_univariate.csv',\n",
    "                   header=0, names=['index','value', 'date'], parse_dates=True, index_col='index', date_parser=dt_parse)\n",
    "\n",
    "data = pd.concat([train_data, test_data], axis=0)\n",
    "\n",
    "data['value'] = data['value'].astype(float)\n",
    "data['date'] = data['date'].astype('datetime64')\n",
    "data = data[data['value'] > 0.0]\n",
    "data"
   ]
  },
  {
   "cell_type": "code",
   "execution_count": 3,
   "metadata": {},
   "outputs": [],
   "source": [
    "data = data['1/1/2017 12:00:00 AM':]"
   ]
  },
  {
   "cell_type": "markdown",
   "metadata": {},
   "source": [
    "# 2. SARIMA"
   ]
  },
  {
   "cell_type": "markdown",
   "metadata": {},
   "source": [
    "## 2.1 Tratando os dados internos"
   ]
  },
  {
   "cell_type": "code",
   "execution_count": 4,
   "metadata": {
    "pycharm": {
     "name": "#%%\n"
    }
   },
   "outputs": [
    {
     "data": {
      "text/plain": [
       "index\n",
       "2017-01-01    482.0\n",
       "2017-01-02    458.0\n",
       "2017-01-03    435.0\n",
       "2017-01-04    407.0\n",
       "2017-01-05    384.0\n",
       "              ...  \n",
       "2019-12-17    281.0\n",
       "2019-12-18    299.0\n",
       "2019-12-19    312.0\n",
       "2019-12-20    311.0\n",
       "2019-12-21    295.0\n",
       "Name: value, Length: 1086, dtype: float64"
      ]
     },
     "execution_count": 4,
     "metadata": {},
     "output_type": "execute_result"
    }
   ],
   "source": [
    "split_date = '1/1/2019 12:00:00 AM'\n",
    "train = data[ : split_date]\n",
    "test  = data[split_date : ]\n",
    "\n",
    "train = train['value']\n",
    "test = test['value']\n",
    "series = pd.concat([train, test], axis=0)\n",
    "\n",
    "series"
   ]
  },
  {
   "cell_type": "markdown",
   "metadata": {},
   "source": [
    "## 2.2 Métodos para treinamento"
   ]
  },
  {
   "cell_type": "code",
   "execution_count": 5,
   "metadata": {
    "pycharm": {
     "name": "#%%\n"
    }
   },
   "outputs": [],
   "source": [
    "# Mostrar previsão de acordo com os dados originais\n",
    "def plot_forecasts(series, forecasts, test):\n",
    "    plt.plot(series, color='blue')\n",
    "    plt.plot(forecasts, color='red')\n",
    "    plt.show()\n",
    "\n",
    "# Avaliação de erro do SARIMA\n",
    "def evaluate_forecasts(test, forecasts, n_steps):\n",
    "    sum_rmse = 0\n",
    "    sum_mape = 0\n",
    "    for i in range(n_steps):\n",
    "        ypred_ts = [forecast[i] for forecast in forecasts]\n",
    "        ytrue_ts = test[i:len(ypred_ts)+i]\n",
    "        # Calculando os erros\n",
    "        mape = mean_absolute_percentage_error(ytrue_ts, ypred_ts)*100\n",
    "        rmse = sqrt(mean_squared_error(ytrue_ts, ypred_ts))\n",
    "        sum_rmse += rmse\n",
    "        sum_mape += mape\n",
    "        print(f\"t+{(i+1)} RMSE: {rmse} | MAPE: {mape}\")\n",
    "\n",
    "    # média dos erros\n",
    "    print(f\"Média do RMSE: {sum_rmse/n_steps}\")\n",
    "    print(f\"Média do MAPE: {sum_mape/n_steps}\")\n",
    "\n",
    "# Treinamento de previsão por SARIMA por multiplos passos\n",
    "def sarima_forecast(train, config, n_steps):\n",
    "    order, s_order, trend = config\n",
    "    # Definindo e moldando o modelo\n",
    "    # trend=trend\n",
    "    model = SARIMAX(train, order=order, seasonal_order=s_order, enforce_stationarity=False, enforce_invertibility=False)\n",
    "    model_fit = model.fit()\n",
    "\n",
    "    # Fazendo previsão com multiplos passos\n",
    "    yhat = model_fit.predict(len(train), len(train)+n_steps-1)\n",
    "    yhat_list = [value for value in yhat]\n",
    "\n",
    "    return yhat_list"
   ]
  },
  {
   "cell_type": "markdown",
   "metadata": {},
   "source": [
    "## 2.3 Treinamento e resultado"
   ]
  },
  {
   "cell_type": "code",
   "execution_count": 6,
   "metadata": {
    "pycharm": {
     "is_executing": true,
     "name": "#%%\n"
    },
    "scrolled": false
   },
   "outputs": [],
   "source": [
    "test = test\n",
    "series = series\n",
    "train = [x for x in train]\n",
    "\n",
    "n_steps = 7\n",
    "\n",
    "# Ordem de tendencial\n",
    "p_param = 1\n",
    "d_param = 0\n",
    "q_param = 0\n",
    "# Periodo e ordem sazonal\n",
    "P_param = 1\n",
    "D_param = 0\n",
    "Q_param = 0\n",
    "m_param = 7\n",
    "# Tipo de tendencia\n",
    "t_params = 'c'  # outros tipos: 'n','c','t','ct'\n",
    "# configuração\n",
    "config = [(p_param,d_param,q_param), (P_param,D_param,Q_param,m_param), t_params]\n",
    "\n",
    "# lista para armazenar os paços de predição e a quantidade de predições a frente\n",
    "forecasts = list()\n",
    "n_forecasts = len(test) - n_steps + 1\n",
    "# n_forecasts = 1\n",
    "\n",
    "for i in range(n_forecasts):\n",
    "    # prevendo valor por sarima\n",
    "    yhat = sarima_forecast(train, config, n_steps)\n",
    "    # adicionando valor de predição a lista\n",
    "    forecasts.append(yhat)\n",
    "    # Adicionando valor de previsão pelo treino para o proximo loop\n",
    "    obs = test[i]\n",
    "    train.append(obs)\n"
   ]
  },
  {
   "cell_type": "code",
   "execution_count": 7,
   "metadata": {},
   "outputs": [
    {
     "data": {
      "text/plain": [
       "index\n",
       "2019-01-01    352.536841\n",
       "2019-01-02    349.268182\n",
       "2019-01-03    381.432631\n",
       "2019-01-04    415.181026\n",
       "2019-01-05    441.871378\n",
       "                 ...    \n",
       "2019-12-11    287.445801\n",
       "2019-12-12    268.958520\n",
       "2019-12-13    254.066373\n",
       "2019-12-14    245.128967\n",
       "2019-12-15    240.889418\n",
       "Length: 349, dtype: float64"
      ]
     },
     "execution_count": 7,
     "metadata": {},
     "output_type": "execute_result"
    }
   ],
   "source": [
    "def Extract(lst):\n",
    "    return list(list(zip(*lst))[0])\n",
    "\n",
    "def avg(lst):\n",
    "    return list(map(np.mean, lst))\n",
    "\n",
    "forecast_series = pd.Series(Extract(forecasts), index=test.index[:len(forecasts)])\n",
    "forecast_series"
   ]
  },
  {
   "cell_type": "code",
   "execution_count": 8,
   "metadata": {},
   "outputs": [
    {
     "name": "stdout",
     "output_type": "stream",
     "text": [
      "t+1 RMSE: 22.15295045366087 | MAPE: 3.53876774278718\n",
      "t+2 RMSE: 41.57967735288624 | MAPE: 6.430692046537437\n",
      "t+3 RMSE: 58.739838869690736 | MAPE: 8.948311218999967\n",
      "t+4 RMSE: 73.34937547203336 | MAPE: 10.922519043955353\n",
      "t+5 RMSE: 85.79240358532645 | MAPE: 12.668005296366559\n",
      "t+6 RMSE: 96.36129177369486 | MAPE: 14.277362923357066\n",
      "t+7 RMSE: 105.50292651471865 | MAPE: 15.710504254903945\n",
      "Média do RMSE: 69.06835200314445\n",
      "Média do MAPE: 10.356594646701073\n"
     ]
    },
    {
     "data": {
      "image/png": "[encoded data removed]",
      "text/plain": [
       "<Figure size 432x288 with 1 Axes>"
      ]
     },
     "metadata": {},
     "output_type": "display_data"
    }
   ],
   "source": [
    "# Avaliação da previsão\n",
    "evaluate_forecasts(test, forecasts, n_steps)\n",
    "# Mostrar previsão\n",
    "limit = int(len(test)*0.1)\n",
    "plot_forecasts(test[:limit], forecast_series[:limit], test)"
   ]
  },
  {
   "cell_type": "code",
   "execution_count": null,
   "metadata": {},
   "outputs": [],
   "source": []
  }
 ],
 "metadata": {
  "kernelspec": {
   "display_name": "Python 3",
   "language": "python",
   "name": "python3"
  },
  "language_info": {
   "codemirror_mode": {
    "name": "ipython",
    "version": 3
   },
   "file_extension": ".py",
   "mimetype": "text/x-python",
   "name": "python",
   "nbconvert_exporter": "python",
   "pygments_lexer": "ipython3",
   "version": "3.7.9"
  }
 },
 "nbformat": 4,
 "nbformat_minor": 1
}
